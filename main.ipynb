{
 "cells": [
  {
   "cell_type": "code",
   "execution_count": 5,
   "metadata": {},
   "outputs": [],
   "source": [
    "import re\n",
    "import os\n",
    "import subprocess\n",
    "source = \"Jio\"\n",
    "# destination = [\"google.txt\",\"alibaba.txt\",\"apple.txt\",\"bitcoin.txt\",\"goldmansachs.txt\",\"ntt.txt\",\"spotify.txt\",\"vodacom.txt\",\"wikipedia.txt\",\"oracle.txt\"]\n",
    "destination = [\"nvidia.txt\"]\n",
    "def getdata(source,destination):\n",
    "    file = open(source+\"/\"+destination,\"r\")\n",
    "    data = {\n",
    "        \"AS NUMBER\" : [],\n",
    "        \"IP ADDRESS\": [],\n",
    "        \"IP RANGE\" : [],\n",
    "        \"LOCATION\" : [],\n",
    "        \"ORGANISATION\": []\n",
    "    }\n",
    "    for line in file.readlines():\n",
    "\n",
    "    \n",
    "        s = re.findall('\\[AS[0-9]+',line)\n",
    "        \n",
    "        if (len(s)>0 and s[0][1] != \"*\"):\n",
    "            \n",
    "            ips = re.findall('[0-9]+\\.[0-9]+\\.[0-9]+\\.[0-9]+',line)\n",
    "\n",
    "            statement = \"./IPGeoLocation/ipgeolocation.py -t {} \".format(ips[0])\n",
    "            proc = subprocess.Popen([statement],stdout=subprocess.PIPE,shell=True)\n",
    "            (out,err) = proc.communicate()\n",
    "            out = out.decode()\n",
    "            city = re.findall('City:[^\\n]*\\\\n',out)\n",
    "            city = re.findall('[A-Z][a-zA-Z ]*',city[0])\n",
    "            country= re.findall('Country:[^\\n]*\\\\n',out)\n",
    "            country = re.findall('[A-Z][a-zA-Z ]*',country[0])\n",
    "            org= re.findall('Organization:[^\\n]*\\\\n',out)\n",
    "            org = re.findall('[A-Z][a-zA-Z ]*',org[0])\n",
    "            if (len(org) >=2):\n",
    "                org = org[1]\n",
    "            else:\n",
    "                org = \"\"\n",
    "            if (len(city) >=2):\n",
    "                city = city[1]\n",
    "            else:\n",
    "                city = \"\"\n",
    "            if (len(country) >=2):\n",
    "                country = country[1]\n",
    "            else:\n",
    "                country = \"\"\n",
    "            \n",
    "            loc = city+'/'+country\n",
    "            statement = \"whois -a {}\".format(ips[0])\n",
    "            proc2 = subprocess.Popen([statement],stdout=subprocess.PIPE,shell=True)\n",
    "            (out,err) = proc2.communicate()\n",
    "            out = out.decode()\n",
    "            iprange = re.findall('inetnum:[ \\t]*[-0-9\\. ]*|NetRange:[ \\t]*[-0-9\\. ]*',out)\n",
    "            if (len(iprange) > 0):\n",
    "                iprange = iprange[0].split(\":\")[1].lstrip()\n",
    "            else:\n",
    "                iprange = \"\"\n",
    "                \n",
    "            \n",
    "            data[\"IP RANGE\"].append(iprange)\n",
    "            data[\"AS NUMBER\"].append(s[0][1:])\n",
    "            data[\"IP ADDRESS\"].append(ips[0])\n",
    "            data[\"ORGANISATION\"].append(org)\n",
    "            data[\"LOCATION\"].append(loc)\n",
    "            \n",
    "    file.close()\n",
    "    return data\n"
   ]
  },
  {
   "cell_type": "code",
   "execution_count": 6,
   "metadata": {},
   "outputs": [
    {
     "name": "stdout",
     "output_type": "stream",
     "text": [
      "nvidia.txt\n"
     ]
    },
    {
     "data": {
      "text/plain": [
       "{'nvidia.txt': {'AS NUMBER': ['AS64049',\n",
       "   'AS64049',\n",
       "   'AS64049',\n",
       "   'AS64049',\n",
       "   'AS14618',\n",
       "   'AS14618'],\n",
       "  'IP ADDRESS': ['103.198.140.176',\n",
       "   '103.198.140.213',\n",
       "   '103.198.140.43',\n",
       "   '103.198.140.43',\n",
       "   '34.194.97.138',\n",
       "   '34.194.97.138'],\n",
       "  'IP RANGE': ['103.198.140.0 - 103.198.140.255',\n",
       "   '103.198.140.0 - 103.198.140.255',\n",
       "   '103.198.140.0 - 103.198.140.255',\n",
       "   '103.198.140.0 - 103.198.140.255',\n",
       "   '34.192.0.0 - 34.255.255.255',\n",
       "   '34.192.0.0 - 34.255.255.255'],\n",
       "  'LOCATION': ['Singapore/Singapore',\n",
       "   'Singapore/Singapore',\n",
       "   'Singapore/Singapore',\n",
       "   'Singapore/Singapore',\n",
       "   'Ashburn/United States',\n",
       "   'Ashburn/United States'],\n",
       "  'ORGANISATION': ['', '', '', '', 'AWS EC', 'AWS EC']}}"
      ]
     },
     "execution_count": 6,
     "metadata": {},
     "output_type": "execute_result"
    }
   ],
   "source": [
    "# getdata(source,destination[0])\n",
    "destination_dict = {}\n",
    "for d in destination:\n",
    "    print(d)\n",
    "    destination_dict[d] = getdata(source,d)\n",
    "destination_dict"
   ]
  },
  {
   "cell_type": "code",
   "execution_count": 3,
   "metadata": {},
   "outputs": [
    {
     "data": {
      "text/plain": [
       "{}"
      ]
     },
     "execution_count": 3,
     "metadata": {},
     "output_type": "execute_result"
    }
   ],
   "source": [
    "destination_dict"
   ]
  },
  {
   "cell_type": "code",
   "execution_count": 129,
   "metadata": {},
   "outputs": [],
   "source": [
    "import pandas as pd\n",
    "\n",
    "for d in destination:\n",
    "    df = pd.DataFrame(destination_dict[d])\n",
    "    df.to_excel(source +\"/\"+\"structured\" + \"/\" + d[:-3]+\"xlsx\")"
   ]
  }
 ],
 "metadata": {
  "kernelspec": {
   "display_name": "Python 3",
   "language": "python",
   "name": "python3"
  },
  "language_info": {
   "codemirror_mode": {
    "name": "ipython",
    "version": 3
   },
   "file_extension": ".py",
   "mimetype": "text/x-python",
   "name": "python",
   "nbconvert_exporter": "python",
   "pygments_lexer": "ipython3",
   "version": "3.11.3"
  },
  "orig_nbformat": 4
 },
 "nbformat": 4,
 "nbformat_minor": 2
}
