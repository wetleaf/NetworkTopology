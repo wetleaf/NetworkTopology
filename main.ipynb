{
 "cells": [
  {
   "cell_type": "code",
   "execution_count": 31,
   "metadata": {},
   "outputs": [],
   "source": [
    "import re\n",
    "import os\n",
    "import subprocess\n",
    "source = \"COGENT Public Looking Glass\"\n",
    "# destination = [\"google.txt\",\"apple.txt\",\"bitcoin.txt\",\"goldmansachs.txt\",\"ntt.txt\",\"spotify.txt\",\"vodacom.txt\",\"wikipedia.txt\",\"oracle.txt\"]\n",
    "# destination = [\"google.txt\",\"apple.txt\",\"bitcoin.txt\",\"ntt.txt\",\"spotify.txt\"]\n",
    "# destination = [\"google.txt\",\"alibaba.txt\",\"bitcoin.txt\",\"ntt.txt\",\"spotify.txt\",\"amazon.txt\"]\n",
    "destination = [\"ntt.txt\"]\n",
    "def getdata(source,destination):\n",
    "    file = open(source+\"/\"+destination,\"r\")\n",
    "    data = {\n",
    "        \"AS NUMBER\" : [],\n",
    "        \"IP ADDRESS\": [],\n",
    "        \"IP RANGE\" : [],\n",
    "        \"LOCATION\" : [],\n",
    "        \"ORGANISATION\": []\n",
    "    }\n",
    "    for line in file.readlines():\n",
    "\n",
    "    \n",
    "        s = re.findall('\\[AS[0-9]+',line)\n",
    "        \n",
    "        if (len(s)>0 and s[0][1] != \"*\"):\n",
    "            \n",
    "            ips = re.findall('[0-9]+\\.[0-9]+\\.[0-9]+\\.[0-9]+',line)\n",
    "\n",
    "            statement = \"./IPGeoLocation/ipgeolocation.py -t {} \".format(ips[0])\n",
    "            proc = subprocess.Popen([statement],stdout=subprocess.PIPE,shell=True)\n",
    "            (out,err) = proc.communicate()\n",
    "            out = out.decode()\n",
    "            city = re.findall('City:[^\\n]*\\\\n',out)\n",
    "            city = re.findall('[A-Z][a-zA-Z ]*',city[0])\n",
    "            country= re.findall('Country:[^\\n]*\\\\n',out)\n",
    "            country = re.findall('[A-Z][a-zA-Z ]*',country[0])\n",
    "            org= re.findall('Organization:[^\\n]*\\\\n',out)\n",
    "            org = re.findall('[A-Z][a-zA-Z ]*',org[0])\n",
    "            if (len(org) >=2):\n",
    "                org = org[1]\n",
    "            else:\n",
    "                org = \"\"\n",
    "            if (len(city) >=2):\n",
    "                city = city[1]\n",
    "            else:\n",
    "                city = \"\"\n",
    "            if (len(country) >=2):\n",
    "                country = country[1]\n",
    "            else:\n",
    "                country = \"\"\n",
    "            \n",
    "            loc = city+'/'+country\n",
    "            statement = \"whois -a {}\".format(ips[0])\n",
    "            proc2 = subprocess.Popen([statement],stdout=subprocess.PIPE,shell=True)\n",
    "            (out,err) = proc2.communicate()\n",
    "            out = out.decode()\n",
    "            iprange = re.findall('inetnum:[ \\t]*[-0-9\\. ]*|NetRange:[ \\t]*[-0-9\\. ]*',out)\n",
    "            if (len(iprange) > 0):\n",
    "                iprange = iprange[0].split(\":\")[1].lstrip()\n",
    "            else:\n",
    "                iprange = \"\"\n",
    "                \n",
    "            \n",
    "            data[\"IP RANGE\"].append(iprange)\n",
    "            data[\"AS NUMBER\"].append(s[0][1:])\n",
    "            data[\"IP ADDRESS\"].append(ips[0])\n",
    "            data[\"ORGANISATION\"].append(org)\n",
    "            data[\"LOCATION\"].append(loc)\n",
    "            \n",
    "    file.close()\n",
    "    return data\n"
   ]
  },
  {
   "cell_type": "code",
   "execution_count": 32,
   "metadata": {},
   "outputs": [
    {
     "name": "stdout",
     "output_type": "stream",
     "text": [
      "ntt.txt\n"
     ]
    },
    {
     "data": {
      "text/plain": [
       "{'ntt.txt': {'AS NUMBER': ['AS174',\n",
       "   'AS2914',\n",
       "   'AS2914',\n",
       "   'AS2914',\n",
       "   'AS2914',\n",
       "   'AS2914',\n",
       "   'AS2914',\n",
       "   'AS2914',\n",
       "   'AS2914',\n",
       "   'AS2914',\n",
       "   'AS2914',\n",
       "   'AS4713',\n",
       "   'AS4713'],\n",
       "  'IP ADDRESS': ['130.117.254.105',\n",
       "   '129.250.6.41',\n",
       "   '129.250.6.1',\n",
       "   '129.250.2.111',\n",
       "   '129.250.6.147',\n",
       "   '129.250.6.17',\n",
       "   '129.250.2.27',\n",
       "   '129.250.5.17',\n",
       "   '129.250.2.119',\n",
       "   '129.250.2.40',\n",
       "   '61.200.80.74',\n",
       "   '153.149.219.145',\n",
       "   '61.113.104.9'],\n",
       "  'IP RANGE': ['',\n",
       "   '',\n",
       "   '',\n",
       "   '',\n",
       "   '',\n",
       "   '',\n",
       "   '',\n",
       "   '',\n",
       "   '',\n",
       "   '',\n",
       "   '',\n",
       "   '153.128.0.0 - 153.253.255.255',\n",
       "   ''],\n",
       "  'LOCATION': ['Amsterdam/Netherlands',\n",
       "   'Frankfurt am Main/Germany',\n",
       "   'Frankfurt am Main/Germany',\n",
       "   'Ashburn/United States',\n",
       "   'Newark/United States',\n",
       "   'Newark/United States',\n",
       "   'Chicago/United States',\n",
       "   'San Jose/United States',\n",
       "   'Osaka/Japan',\n",
       "   'Osaka/Japan',\n",
       "   'Chiyoda/Japan',\n",
       "   'Chiyoda/Japan',\n",
       "   'Osaka/Japan'],\n",
       "  'ORGANISATION': ['PSINet',\n",
       "   'NTT America',\n",
       "   'NTT America',\n",
       "   'NTT America',\n",
       "   'NTT America',\n",
       "   'NTT America',\n",
       "   'NTT America',\n",
       "   'NTT America',\n",
       "   'NTT America',\n",
       "   'NTT America',\n",
       "   'Global IP Network',\n",
       "   'Open Computer Network',\n",
       "   'OCN']}}"
      ]
     },
     "execution_count": 32,
     "metadata": {},
     "output_type": "execute_result"
    }
   ],
   "source": [
    "# getdata(source,destination[0])\n",
    "destination_dict = {}\n",
    "for d in destination:\n",
    "    print(d)\n",
    "    destination_dict[d] = getdata(source,d)\n",
    "destination_dict"
   ]
  },
  {
   "cell_type": "code",
   "execution_count": 29,
   "metadata": {},
   "outputs": [
    {
     "data": {
      "text/plain": [
       "{'bitcoin.txt': {'AS NUMBER': ['AS174', 'AS174', 'AS13335'],\n",
       "  'IP ADDRESS': ['130.117.254.105', '154.25.7.225', '104.22.68.176'],\n",
       "  'IP RANGE': ['', '', '104.16.0.0 - 104.31.255.255'],\n",
       "  'LOCATION': ['Amsterdam/Netherlands',\n",
       "   'Cleveland/United States',\n",
       "   'Toronto/Canada'],\n",
       "  'ORGANISATION': ['PSINet', 'PSINet', 'Cloudflare']}}"
      ]
     },
     "execution_count": 29,
     "metadata": {},
     "output_type": "execute_result"
    }
   ],
   "source": [
    "destination_dict"
   ]
  },
  {
   "cell_type": "code",
   "execution_count": 30,
   "metadata": {},
   "outputs": [],
   "source": [
    "import pandas as pd\n",
    "\n",
    "for d in destination:\n",
    "    df = pd.DataFrame(destination_dict[d])\n",
    "    df.to_excel(source +\"/\"+\"structured\" + \"/\" + d[:-3]+\"xlsx\")"
   ]
  }
 ],
 "metadata": {
  "kernelspec": {
   "display_name": "Python 3",
   "language": "python",
   "name": "python3"
  },
  "language_info": {
   "codemirror_mode": {
    "name": "ipython",
    "version": 3
   },
   "file_extension": ".py",
   "mimetype": "text/x-python",
   "name": "python",
   "nbconvert_exporter": "python",
   "pygments_lexer": "ipython3",
   "version": "3.11.3"
  },
  "orig_nbformat": 4
 },
 "nbformat": 4,
 "nbformat_minor": 2
}
